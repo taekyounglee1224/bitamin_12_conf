{
  "cells": [
    {
      "cell_type": "markdown",
      "id": "fc80feb9",
      "metadata": {
        "id": "fc80feb9"
      },
      "source": [
        "### Import dataset"
      ]
    },
    {
      "cell_type": "code",
      "execution_count": null,
      "id": "2059c61b",
      "metadata": {
        "colab": {
          "background_save": true
        },
        "id": "2059c61b"
      },
      "outputs": [],
      "source": [
        "import numpy as np\n",
        "import pandas as pd\n",
        "pd.set_option('display.max_rows', 100)\n",
        "import matplotlib.pyplot as plt"
      ]
    },
    {
      "cell_type": "code",
      "execution_count": null,
      "id": "QBuPbENILxLc",
      "metadata": {
        "colab": {
          "background_save": true
        },
        "id": "QBuPbENILxLc"
      },
      "outputs": [],
      "source": [
        "df1 = pd.read_csv('/content/drive/MyDrive/비타민/시계열/final_elec.csv')\n",
        "df2 = pd.read_csv('/content/drive/MyDrive/비타민/시계열/final_gas.csv', encoding = 'cp949')\n",
        "df3 = pd.read_csv('/content/drive/MyDrive/비타민/시계열/final_kau.csv')"
      ]
    },
    {
      "cell_type": "code",
      "execution_count": null,
      "id": "s-UFJ_aLRDNr",
      "metadata": {
        "colab": {
          "background_save": true
        },
        "id": "s-UFJ_aLRDNr"
      },
      "outputs": [],
      "source": [
        "df2.rename(columns = {'date' : 'Date'}, inplace = True)"
      ]
    },
    {
      "cell_type": "markdown",
      "id": "zVBHDA4xub-S",
      "metadata": {
        "id": "zVBHDA4xub-S"
      },
      "source": [
        "### Merge dataset"
      ]
    },
    {
      "cell_type": "code",
      "execution_count": null,
      "id": "rNYnORFwLxXT",
      "metadata": {
        "colab": {
          "background_save": true
        },
        "id": "rNYnORFwLxXT"
      },
      "outputs": [],
      "source": [
        "combined = pd.merge(df1[['Date', '최대전력(MW)', '공급예비력(MW)', '공급예비율(%)']], df2, on = 'Date', how = 'inner')\n",
        "combined"
      ]
    },
    {
      "cell_type": "code",
      "execution_count": null,
      "id": "IyNPo5OkLxc2",
      "metadata": {
        "colab": {
          "background_save": true
        },
        "id": "IyNPo5OkLxc2"
      },
      "outputs": [],
      "source": [
        "df3.rename(columns = {'date': 'Date'}, inplace = True)"
      ]
    },
    {
      "cell_type": "code",
      "execution_count": null,
      "id": "iuVMWJWfLxfd",
      "metadata": {
        "colab": {
          "background_save": true
        },
        "id": "iuVMWJWfLxfd"
      },
      "outputs": [],
      "source": [
        "total_df = pd.merge(combined, df3[['Date', '종가', '거래량']], on = 'Date', how = 'inner')\n",
        "total_df"
      ]
    },
    {
      "cell_type": "code",
      "execution_count": null,
      "id": "y2nawsrwOAeh",
      "metadata": {
        "colab": {
          "background_save": true
        },
        "id": "y2nawsrwOAeh"
      },
      "outputs": [],
      "source": [
        "total_df['종가'] = total_df['종가'].str.replace(',', '').astype(float)\n",
        "total_df['거래량'] = total_df['거래량'].str.replace(',', '').astype(float)"
      ]
    },
    {
      "cell_type": "code",
      "execution_count": null,
      "id": "8ieVjm3zOSwC",
      "metadata": {
        "colab": {
          "background_save": true
        },
        "id": "8ieVjm3zOSwC"
      },
      "outputs": [],
      "source": [
        "total_df.isnull().sum()"
      ]
    },
    {
      "cell_type": "code",
      "execution_count": null,
      "id": "gUsYdASTOg_N",
      "metadata": {
        "colab": {
          "background_save": true
        },
        "id": "gUsYdASTOg_N"
      },
      "outputs": [],
      "source": [
        "total_df['gas'].fillna(method = 'bfill', inplace = True)\n",
        "total_df.isnull().sum()"
      ]
    },
    {
      "cell_type": "code",
      "execution_count": null,
      "id": "qjuV5-GuPaJo",
      "metadata": {
        "colab": {
          "background_save": true
        },
        "id": "qjuV5-GuPaJo"
      },
      "outputs": [],
      "source": [
        "total_df['diff_close'] = total_df['종가'].pct_change(1)"
      ]
    },
    {
      "cell_type": "code",
      "execution_count": null,
      "id": "QAu9G3U0QLda",
      "metadata": {
        "colab": {
          "background_save": true
        },
        "id": "QAu9G3U0QLda"
      },
      "outputs": [],
      "source": [
        "total_df = total_df.dropna()"
      ]
    },
    {
      "cell_type": "code",
      "execution_count": null,
      "id": "8YY_SuOYQ7c1",
      "metadata": {
        "colab": {
          "background_save": true
        },
        "id": "8YY_SuOYQ7c1"
      },
      "outputs": [],
      "source": [
        "total_df = total_df[['최대전력(MW)', '공급예비력(MW)', '공급예비율(%)', 'gas', '종가', '거래량',\n",
        "       'diff_close']]"
      ]
    },
    {
      "cell_type": "markdown",
      "id": "c4313692",
      "metadata": {
        "id": "c4313692"
      },
      "source": [
        "### Choose dataset & Hyperparameter setting"
      ]
    },
    {
      "cell_type": "code",
      "execution_count": null,
      "id": "56432e2c",
      "metadata": {
        "colab": {
          "background_save": true
        },
        "id": "56432e2c"
      },
      "outputs": [],
      "source": [
        "data, dataname = total_df, 'total_df' # stock_df / total_df\n",
        "TARGET = \"diff_close\"                      # \"diff_close\"\n",
        "SEQ_SIZE = 120                        # 60 / 120\n",
        "PRED_SIZE = 20\n",
        "BATCH_SIZE = 8                    #  4 / 8\n",
        "HIDDEN_SIZE = 128               # 64 / 128\n",
        "EPOCHS = 1000"
      ]
    },
    {
      "cell_type": "markdown",
      "id": "rm-R3f2nuoxg",
      "metadata": {
        "id": "rm-R3f2nuoxg"
      },
      "source": [
        "### Make train datset"
      ]
    },
    {
      "cell_type": "code",
      "execution_count": null,
      "id": "59b63d6f",
      "metadata": {
        "colab": {
          "background_save": true
        },
        "id": "59b63d6f"
      },
      "outputs": [],
      "source": [
        "def split_xy(dataset, time_steps, y_column):\n",
        "    x, y = list(), list()\n",
        "    for i in range(len(dataset)):\n",
        "        x_end_number = i + time_steps\n",
        "        y_end_number = x_end_number + y_column\n",
        "\n",
        "        if y_end_number > len(dataset):\n",
        "            break\n",
        "        tmp_x = dataset.iloc[i:x_end_number, :]  # Adjusted for Pandas\n",
        "        tmp_y = dataset.iloc[x_end_number:y_end_number, :].loc[:, TARGET]\n",
        "        x.append(tmp_x.values)  # Convert to numpy array\n",
        "        y.append(tmp_y.values)  # Convert to numpy array\n",
        "\n",
        "    return np.array(x), np.array(y)\n",
        "\n",
        "X, y = split_xy(data, SEQ_SIZE, PRED_SIZE)\n",
        "print(X[0,:],\"\\n\", y[0])\n",
        "print(\"X size : \", X.shape)\n",
        "print(\"y size : \", y.shape)"
      ]
    },
    {
      "cell_type": "markdown",
      "id": "26bf33a6",
      "metadata": {
        "id": "26bf33a6"
      },
      "source": [
        "### Define X_test"
      ]
    },
    {
      "cell_type": "code",
      "execution_count": null,
      "id": "e7e9475c",
      "metadata": {
        "colab": {
          "background_save": true
        },
        "id": "e7e9475c"
      },
      "outputs": [],
      "source": [
        "X_test = data.tail(SEQ_SIZE).values.reshape(1, SEQ_SIZE, data.shape[1])\n",
        "print(X_test)\n",
        "print(\"X_test size : \", X_test.shape)"
      ]
    },
    {
      "cell_type": "markdown",
      "id": "dvw92WElvA7x",
      "metadata": {
        "id": "dvw92WElvA7x"
      },
      "source": [
        "### Standardization"
      ]
    },
    {
      "cell_type": "code",
      "execution_count": null,
      "id": "78ba78ed",
      "metadata": {
        "colab": {
          "background_save": true
        },
        "id": "78ba78ed"
      },
      "outputs": [],
      "source": [
        "from sklearn.preprocessing import StandardScaler\n",
        "\n",
        "X = X.reshape(X.shape[0], X.shape[1] * X.shape[2])\n",
        "scaler = StandardScaler()\n",
        "scaler.fit(X)\n",
        "X = scaler.transform(X)\n",
        "X = X.reshape(X.shape[0], SEQ_SIZE, data.shape[1])\n",
        "\n",
        "X_test = X_test.reshape(X_test.shape[0], X_test.shape[1] * X_test.shape[2])\n",
        "X_test = scaler.transform(X_test)\n",
        "X_test = X_test.reshape(X_test.shape[0], SEQ_SIZE, data.shape[1])\n",
        "\n",
        "print(\"X size : \", X.shape)\n",
        "print(\"X_test size : \", X_test.shape)"
      ]
    },
    {
      "cell_type": "markdown",
      "id": "bf82a36a",
      "metadata": {
        "id": "bf82a36a"
      },
      "source": [
        "### Split train-validation dataset"
      ]
    },
    {
      "cell_type": "code",
      "execution_count": null,
      "id": "6c9f6dae",
      "metadata": {
        "colab": {
          "background_save": true
        },
        "id": "6c9f6dae"
      },
      "outputs": [],
      "source": [
        "# to DataLoader\n",
        "import torch\n",
        "from torch.utils.data import Dataset, DataLoader, TensorDataset\n",
        "from sklearn.model_selection import train_test_split\n",
        "\n",
        "X_train, X_valid, y_train, y_valid = train_test_split(X, y, random_state = 1, test_size = 0.2)\n",
        "\n",
        "# to tensor\n",
        "X_train = torch.tensor(X_train.astype(np.float32), dtype = torch.float32)\n",
        "X_valid = torch.tensor(X_valid.astype(np.float32), dtype = torch.float32)\n",
        "y_train = torch.tensor(y_train.astype(np.float32), dtype = torch.float32)\n",
        "y_valid = torch.tensor(y_valid.astype(np.float32), dtype = torch.float32)\n",
        "\n",
        "# to DataLoader\n",
        "train_loader = DataLoader(TensorDataset(X_train, y_train), batch_size = BATCH_SIZE, shuffle = True)\n",
        "val_loader = DataLoader(TensorDataset(X_valid, y_valid), batch_size = BATCH_SIZE, shuffle = False)"
      ]
    },
    {
      "cell_type": "markdown",
      "id": "2kbCnIxevF36",
      "metadata": {
        "id": "2kbCnIxevF36"
      },
      "source": [
        "### Modeling"
      ]
    },
    {
      "cell_type": "code",
      "execution_count": null,
      "id": "9e64f645",
      "metadata": {
        "colab": {
          "background_save": true
        },
        "id": "9e64f645"
      },
      "outputs": [],
      "source": [
        "import torch.nn as nn\n",
        "import torch.nn.functional as F\n",
        "import torch.optim as optim\n",
        "from torch.autograd import Variable\n",
        "from torch.nn import Parameter\n",
        "from torch import Tensor\n",
        "from torch.optim.lr_scheduler import ReduceLROnPlateau\n",
        "\n",
        "import copy\n",
        "class EarlyStopping:\n",
        "    def __init__(self, patience = 5, min_delta = 0, restore_best_weights = True):\n",
        "        self.patience = patience\n",
        "        self.min_delta = min_delta\n",
        "        self.restore_best_weights = restore_best_weights\n",
        "        self.best_model = None\n",
        "        self.best_loss = None\n",
        "        self.counter = 0\n",
        "        self.status = \"\"\n",
        "\n",
        "    def __call__(self, model, val_loss):\n",
        "        if self.best_loss is None:\n",
        "            self.best_loss = val_loss\n",
        "            self.best_model = copy.deepcopy(model.state_dict())\n",
        "        elif self.best_loss - val_loss >= self.min_delta:\n",
        "            self.best_model = copy.deepcopy(model.state_dict())\n",
        "            self.best_loss = val_loss\n",
        "            self.counter = 0\n",
        "            self.status = f\"Improvement found, counter reset to {self.counter}\"\n",
        "        else:\n",
        "            self.counter += 1\n",
        "            self.status = f\"No improvement in the last {self.counter} epochs\"\n",
        "            if self.counter >= self.patience:\n",
        "                self.status = f\"Early stopping triggered after {self.counter} epochs.\"\n",
        "                if self.restore_best_weights:\n",
        "                    model.load_state_dict(self.best_model)\n",
        "                return True\n",
        "        return False\n",
        "\n",
        "class GRUModel(nn.Module):\n",
        "    def __init__(self,input_dim):\n",
        "        super(GRUModel,self).__init__()\n",
        "        self.gru = nn.GRU(input_dim, hidden_size = HIDDEN_SIZE, batch_first = True)\n",
        "        self.dropout = nn.Dropout(0.2)\n",
        "        self.seq = nn.Sequential(nn.Linear(HIDDEN_SIZE, 32),\n",
        "                                nn.ReLU(),\n",
        "                                nn.Linear(32, 32),\n",
        "                                nn.ReLU(),\n",
        "                                nn.Linear(32, 32),\n",
        "                                nn.ReLU(),\n",
        "                                nn.Linear(32, 32),\n",
        "                                nn.ReLU(),\n",
        "                                nn.Linear(32, PRED_SIZE)\n",
        "                                )\n",
        "    def forward(self,x):\n",
        "        x,_ = self.gru(x)\n",
        "        x = self.dropout(x[:,-1,:])\n",
        "        x = self.seq(x)\n",
        "        return x\n",
        "\n",
        "class RMSELoss(nn.Module):\n",
        "    def __init__(self):\n",
        "        super(RMSELoss,self).__init__()\n",
        "        self.mse = nn.MSELoss()\n",
        "\n",
        "    def forward(self,yhat,y):\n",
        "        return torch.sqrt(self.mse(yhat,y))"
      ]
    },
    {
      "cell_type": "code",
      "execution_count": null,
      "id": "d11f3882",
      "metadata": {
        "colab": {
          "background_save": true
        },
        "id": "d11f3882"
      },
      "outputs": [],
      "source": [
        "model = GRUModel(X_train.shape[2])\n",
        "criterion = RMSELoss()\n",
        "optimizer = optim.Adam(model.parameters(), lr = 0.001)\n",
        "scheduler = ReduceLROnPlateau(optimizer, 'min', factor = 0.1, patience = 20, verbose = True)"
      ]
    },
    {
      "cell_type": "markdown",
      "id": "02c1ca85",
      "metadata": {
        "id": "02c1ca85"
      },
      "source": [
        "### RUN!!"
      ]
    },
    {
      "cell_type": "code",
      "execution_count": null,
      "id": "96bcf3a0",
      "metadata": {
        "colab": {
          "background_save": true
        },
        "id": "96bcf3a0",
        "scrolled": true
      },
      "outputs": [],
      "source": [
        "epoch_counter = 0\n",
        "patience = 30\n",
        "best_loss = float('inf')\n",
        "done = False\n",
        "es = EarlyStopping(patience=patience)\n",
        "tr_losses_fp, val_losses_fp = [],[]\n",
        "\n",
        "while not done and epoch_counter<EPOCHS:\n",
        "    epoch_counter+=1\n",
        "\n",
        "    # train\n",
        "    model.train()\n",
        "    train_losses = []\n",
        "    for x_batch,y_batch in train_loader:\n",
        "        optimizer.zero_grad()\n",
        "        output = model(x_batch)\n",
        "        loss = criterion(output,y_batch)\n",
        "        loss.backward()\n",
        "        optimizer.step()\n",
        "        train_losses.append(loss.item())\n",
        "    train_loss = np.mean(train_losses)\n",
        "    tr_losses_fp.append(train_loss)\n",
        "\n",
        "    # validation\n",
        "    model.eval()\n",
        "    val_losses = []\n",
        "    with torch.no_grad():\n",
        "        for x_batch, y_batch in val_loader:\n",
        "            output = model(x_batch)\n",
        "            loss = criterion(output, y_batch)\n",
        "            val_losses.append(loss.item())\n",
        "    val_loss = np.mean(val_losses)\n",
        "    val_losses_fp.append(val_loss)\n",
        "    scheduler.step(val_loss)\n",
        "\n",
        "    if es(model, val_loss):\n",
        "        done = True\n",
        "\n",
        "    if val_loss < best_loss:\n",
        "        best_loss = val_loss\n",
        "        best_train_loss = train_loss\n",
        "\n",
        "    print(f\"Epoch {epoch_counter}/{EPOCHS}, Train Loss: {train_loss:.4f}, Validation Loss: {val_loss:.4f}\")"
      ]
    },
    {
      "cell_type": "code",
      "execution_count": null,
      "id": "5b304f54",
      "metadata": {
        "colab": {
          "background_save": true
        },
        "id": "5b304f54"
      },
      "outputs": [],
      "source": [
        "print(f\"Best validation loss : {best_loss}\")"
      ]
    },
    {
      "cell_type": "code",
      "execution_count": null,
      "id": "4L5dNLCkCXIR",
      "metadata": {
        "colab": {
          "background_save": true
        },
        "id": "4L5dNLCkCXIR"
      },
      "outputs": [],
      "source": [
        "print(f\"Best train loss : {best_train_loss}\")"
      ]
    },
    {
      "cell_type": "markdown",
      "id": "p35Js3JKvX-b",
      "metadata": {
        "id": "p35Js3JKvX-b"
      },
      "source": [
        "### Visualize train-validation loss"
      ]
    },
    {
      "cell_type": "code",
      "execution_count": null,
      "id": "c7ecdc23",
      "metadata": {
        "colab": {
          "background_save": true
        },
        "id": "c7ecdc23"
      },
      "outputs": [],
      "source": [
        "import matplotlib.pyplot as plt\n",
        "plt.plot(range(len(tr_losses_fp)),tr_losses_fp,color='blue',label='train_loss')\n",
        "plt.plot(range(len(val_losses_fp)),val_losses_fp,color='red',label='val_loss')\n",
        "plt.legend()\n",
        "plt.show()"
      ]
    },
    {
      "cell_type": "markdown",
      "id": "GEyCVeaSveqh",
      "metadata": {
        "id": "GEyCVeaSveqh"
      },
      "source": [
        "### Prediction"
      ]
    },
    {
      "cell_type": "code",
      "execution_count": null,
      "id": "422f4919",
      "metadata": {
        "colab": {
          "background_save": true
        },
        "id": "422f4919"
      },
      "outputs": [],
      "source": [
        "# evaluation\n",
        "model.eval()\n",
        "with torch.no_grad():\n",
        "    X_test = torch.tensor(X_test.astype(np.float32), dtype = torch.float32)\n",
        "    pred = model(X_test)\n",
        "\n",
        "pred = pred.detach().numpy()\n",
        "print(pred)"
      ]
    },
    {
      "cell_type": "code",
      "execution_count": null,
      "id": "f48ebd4a",
      "metadata": {
        "colab": {
          "background_save": true
        },
        "id": "f48ebd4a"
      },
      "outputs": [],
      "source": [
        "if TARGET == \"diff_close\" :\n",
        "    endPrice = data['종가'].iloc[-1]\n",
        "    pred_close = []\n",
        "\n",
        "    for i in pred[0] :\n",
        "        endPrice = endPrice + endPrice*i\n",
        "        pred_close.append(endPrice)\n",
        "\n",
        "    pred = np.array(pred_close).reshape(1, PRED_SIZE)\n",
        "    pred\n",
        "else :\n",
        "    pass"
      ]
    },
    {
      "cell_type": "markdown",
      "id": "px8U_s7cvwZ0",
      "metadata": {
        "id": "px8U_s7cvwZ0"
      },
      "source": [
        "### Plotting"
      ]
    },
    {
      "cell_type": "code",
      "execution_count": null,
      "id": "9Ru3uhzIYNhp",
      "metadata": {
        "colab": {
          "background_save": true
        },
        "id": "9Ru3uhzIYNhp"
      },
      "outputs": [],
      "source": [
        "dates = [\"2024-08-26\", \"2024-08-27\", \"2024-08-28\", \"2024-08-29\", \"2024-08-30\",\n",
        "         \"2024-09-02\", \"2024-09-03\", \"2024-09-04\", \"2024-09-05\", \"2024-09-06\",\n",
        "         \"2024-09-09\", \"2024-09-10\", \"2024-09-11\", \"2024-09-12\", \"2024-09-13\",\n",
        "         \"2024-09-19\", \"2024-09-20\", \"2024-09-23\", \"2024-09-24\", \"2024-09-25\"]\n",
        "\n",
        "# Convert dates to pandas datetime for better handling in plotting\n",
        "date_indices = pd.to_datetime(dates)\n",
        "pred = np.array(pred).reshape(PRED_SIZE)\n",
        "\n",
        "# Plotting\n",
        "plt.figure(figsize=(10, 5))\n",
        "plt.plot(date_indices, pred, color='red', alpha=0.6, label='Prediction')\n",
        "plt.legend()\n",
        "plt.gcf().autofmt_xdate()  # Auto-format the dates for better readability\n",
        "plt.title(\"Prediction Over Specified Dates\")\n",
        "plt.xlabel(\"Date\")\n",
        "plt.ylabel(\"Prediction Value\")\n",
        "plt.grid(True)\n",
        "plt.show()"
      ]
    },
    {
      "cell_type": "code",
      "execution_count": null,
      "id": "PcBnLk6f1JR3",
      "metadata": {
        "colab": {
          "background_save": true
        },
        "id": "PcBnLk6f1JR3"
      },
      "outputs": [],
      "source": [
        "pd.DataFrame(pred, columns = ['Predicted_Close'])"
      ]
    }
  ],
  "metadata": {
    "colab": {
      "provenance": []
    },
    "kernelspec": {
      "display_name": "sol",
      "language": "python",
      "name": "sol"
    },
    "language_info": {
      "codemirror_mode": {
        "name": "ipython",
        "version": 3
      },
      "file_extension": ".py",
      "mimetype": "text/x-python",
      "name": "python",
      "nbconvert_exporter": "python",
      "pygments_lexer": "ipython3",
      "version": "3.10.13"
    },
    "toc": {
      "base_numbering": 1,
      "nav_menu": {},
      "number_sections": false,
      "sideBar": true,
      "skip_h1_title": false,
      "title_cell": "Table of Contents",
      "title_sidebar": "Contents",
      "toc_cell": false,
      "toc_position": {},
      "toc_section_display": true,
      "toc_window_display": false
    }
  },
  "nbformat": 4,
  "nbformat_minor": 5
}